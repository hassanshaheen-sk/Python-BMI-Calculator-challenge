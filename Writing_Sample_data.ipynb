{
 "cells": [
  {
   "cell_type": "code",
   "execution_count": 2,
   "id": "96c836dd",
   "metadata": {},
   "outputs": [],
   "source": [
    "# Python program to write JSON\n",
    "# to a file\n",
    "  \n",
    "import json\n",
    "  \n",
    "# Data to be written\n",
    "dictionary =[{\"Gender\": \"Male\", \"HeightCm\": 171, \"WeightKg\": 96 },\n",
    "{ \"Gender\": \"Male\", \"HeightCm\": 161, \"WeightKg\": 85 },\n",
    "{ \"Gender\": \"Male\", \"HeightCm\": 180, \"WeightKg\": 77 },\n",
    "{ \"Gender\": \"Female\", \"HeightCm\": 166, \"WeightKg\": 62},\n",
    "{\"Gender\": \"Female\", \"HeightCm\": 150, \"WeightKg\": 70},\n",
    "{\"Gender\": \"Female\", \"HeightCm\": 167, \"WeightKg\": 82}]\n",
    "  \n",
    "# Serializing json \n",
    "json_object = json.dumps(dictionary, indent = 4)\n",
    "  \n",
    "# Writing to sample.json\n",
    "with open(\"sample.json\", \"w\") as outfile:\n",
    "    outfile.write(json_object)"
   ]
  }
 ],
 "metadata": {
  "kernelspec": {
   "display_name": "Python 3",
   "language": "python",
   "name": "python3"
  },
  "language_info": {
   "codemirror_mode": {
    "name": "ipython",
    "version": 3
   },
   "file_extension": ".py",
   "mimetype": "text/x-python",
   "name": "python",
   "nbconvert_exporter": "python",
   "pygments_lexer": "ipython3",
   "version": "3.8.8"
  }
 },
 "nbformat": 4,
 "nbformat_minor": 5
}
